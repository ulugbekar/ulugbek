{
  "nbformat": 4,
  "nbformat_minor": 0,
  "metadata": {
    "colab": {
      "provenance": [],
      "authorship_tag": "ABX9TyMKIBd+DJ5yNHXBffzq8KOG",
      "include_colab_link": true
    },
    "kernelspec": {
      "name": "python3",
      "display_name": "Python 3"
    },
    "language_info": {
      "name": "python"
    },
    "accelerator": "GPU"
  },
  "cells": [
    {
      "cell_type": "markdown",
      "metadata": {
        "id": "view-in-github",
        "colab_type": "text"
      },
      "source": [
        "<a href=\"https://colab.research.google.com/github/ulugbekar/ulugbek/blob/main/MidTERM_12184750.ipynb\" target=\"_parent\"><img src=\"https://colab.research.google.com/assets/colab-badge.svg\" alt=\"Open In Colab\"/></a>"
      ]
    },
    {
      "cell_type": "code",
      "execution_count": null,
      "metadata": {
        "colab": {
          "base_uri": "https://localhost:8080/"
        },
        "id": "pZejw9CYVsB5",
        "outputId": "ab6726fd-4584-49d3-beb0-9bce07fd0ab8"
      },
      "outputs": [
        {
          "output_type": "stream",
          "name": "stdout",
          "text": [
            "Booking_Service table created\n",
            "Country table created\n",
            "Driver table created\n",
            "DropOff table created\n",
            "Officials table created\n",
            "Pickup table created\n",
            "Vehicle table created\n"
          ]
        }
      ],
      "source": [
        "import sqlite3\n",
        "\n",
        "conn = sqlite3.connect('Ul.db')\n",
        "\n",
        "conn.execute('''\n",
        "CREATE TABLE Booking_Service\n",
        "(\n",
        "\tstart_trip           TIME NULL,\n",
        "\tend_trip             TIME NULL,\n",
        "\tDriver_name          LONG VARCHAR NOT NULL,\n",
        "\ttbooking_re_num      INTEGER NULL,\n",
        "\ttbooking_ref_num     INTEGER NULL\n",
        ");''')\n",
        "\n",
        "conn.commit()\n",
        "\n",
        "print(\"Booking_Service table created\");\n",
        "\n",
        "conn.execute('''\n",
        "CREATE TABLE Country\n",
        "(\n",
        "\tname                 VARCHAR(22) NULL,\n",
        "\tlanguage             VARCHAR(22) NULL,\n",
        "\tcountry_id           VARCHAR(22) PRIMARY KEY NOT NULL\n",
        ");''')\n",
        " \n",
        "conn.commit()\n",
        "\n",
        "print(\"Country table created\");\n",
        "\n",
        "conn.execute('''\n",
        "CREATE TABLE Driver\n",
        "(\n",
        "\tlicense_num          INTEGER NULL,\n",
        "\tclearense_num        INTEGER NULL,\n",
        "\tlanguage             LONG VARCHAR NULL,\n",
        "\tDriver_ID            INTEGER PRIMARY KEY NOT NULL,\n",
        "\tDriver_name          LONG VARCHAR NULL\n",
        ");''')\n",
        "\n",
        "conn.commit()\n",
        "\n",
        "print(\"Driver table created\");\n",
        "\n",
        "conn.execute('''\n",
        "CREATE TABLE DropOff\n",
        "(\n",
        "\tcity                 LONG VARCHAR NULL,\n",
        "\taddress              INTEGER NULL,\n",
        "\tloc_type             LONG VARCHAR NULL,\n",
        "\ttbooking_ref_num     INTEGER PRIMARY KEY NOT NULL\n",
        ");''')\n",
        "\n",
        "conn.commit()\n",
        "\n",
        "print(\"DropOff table created\");\n",
        "\n",
        "conn.execute('''\n",
        "CREATE TABLE Officials\n",
        "(\n",
        "\tcountry_id           INTEGER PRIMARY KEY NOT NULL,\n",
        "\tlanguage             LONG VARCHAR NULL,\n",
        "\tname                 LONG VARCHAR NULL,\n",
        "\trole                 LONG VARCHAR NULL,\n",
        "\tcity_id              INTEGER NULL\n",
        ");''')\n",
        "\n",
        "conn.commit()\n",
        "\n",
        "print(\"Officials table created\");\n",
        "\n",
        "conn.execute('''\n",
        "CREATE TABLE Pickup\n",
        "(\n",
        "\tcity                 LONG VARCHAR NULL,\n",
        "\taddress              INTEGER NULL,\n",
        "\tloc_type             LONG VARCHAR NULL,\n",
        "\ttbooking_re_num      INTEGER PRIMARY KEY NOT NULL\n",
        ");''')\n",
        "\n",
        "conn.commit()\n",
        "\n",
        "print(\"Pickup table created\");\n",
        "\n",
        "conn.execute('''\n",
        "CREATE TABLE Vehicle\n",
        "(\n",
        "\tVehicle_ID           VARCHAR PRIMARY KEY NOT NULL,\n",
        "\tregistration_id      VARCHAR NULL,\n",
        "\tmanufacturer         VARCHAR NULL,\n",
        "\tmodel                VARCHAR NULL,\n",
        "\tcolor                VARCHAR NULL,\n",
        "\tcurrent_odometer     INTEGER NULL,\n",
        "\tpassenger_cap        INTEGER NULL,\n",
        "\tDriver_ID            INTEGER NULL\n",
        ");''')\n",
        "\n",
        "conn.commit()\n",
        "\n",
        "print(\"Vehicle table created\");\n"
      ]
    },
    {
      "cell_type": "code",
      "source": [
        "conn.execute(\"REPLACE INTO Country(name,language,country_id) VALUES('ISO 3166-2','Aruba','AW');\")\n",
        "conn.execute(\"REPLACE INTO Country(name,language,country_id) VALUES('ISO 3166-2','Australia','AU');\")\n",
        "conn.execute(\"REPLACE INTO Country(name,language,country_id) VALUES('ISO 3166-2','Austria','AT');\")\n",
        "conn.execute(\"REPLACE INTO Country(name,language,country_id) VALUES('ISO 3166-2','Azerbaijan','AZ');\")\n",
        "\n",
        "conn.commit()"
      ],
      "metadata": {
        "id": "saBJvouIeqLg"
      },
      "execution_count": null,
      "outputs": []
    },
    {
      "cell_type": "code",
      "source": [
        "conn = sqlite3.connect('Ul.db')\n",
        "cursor = conn.execute(''' SELECT * FROM Country ''')\n",
        "for tuples in cursor:\n",
        "  print(tuples)"
      ],
      "metadata": {
        "colab": {
          "base_uri": "https://localhost:8080/"
        },
        "id": "gPm8FgodgPR1",
        "outputId": "2d4b5758-34d0-40ef-d401-3dbed2b14278"
      },
      "execution_count": null,
      "outputs": [
        {
          "output_type": "stream",
          "name": "stdout",
          "text": [
            "('ISO 3166-2', 'Aruba', 'AW')\n",
            "('ISO 3166-2', 'Australia', 'AU')\n",
            "('ISO 3166-2', 'Austria', 'AT')\n",
            "('ISO 3166-2', 'Azerbaijan', 'AZ')\n"
          ]
        }
      ]
    },
    {
      "cell_type": "code",
      "source": [
        "conn.execute(\"INSERT INTO Vehicle(Vehicle_ID,registration_id,manufacturer,model,color,current_odometer,passenger_cap,Driver_ID) VALUES('V1000','2001 ABC','Volvo','XC90 SE','Silver',4350,4,1234);\")\n",
        "conn.execute(\"INSERT INTO Vehicle(Vehicle_ID,registration_id,manufacturer,model,color,current_odometer,passenger_cap,Driver_ID) VALUES('V1001','2006 AFD','Kia','K7','Black',2195,4,1123);\")\n",
        "conn.execute(\"INSERT INTO Vehicle(Vehicle_ID,registration_id,manufacturer,model,color,current_odometer,passenger_cap,Driver_ID) VALUES('V1002','2021 AHR','Tesla','2020 F','White',509,4,1223);\")\n",
        "conn.execute(\"INSERT INTO Vehicle(Vehicle_ID,registration_id,manufacturer,model,color,current_odometer,passenger_cap,Driver_ID) VALUES('V1003','2020 DXF','Ford','Transit','Silver',974,2,1233);\")\n",
        "\n",
        "conn.commit()"
      ],
      "metadata": {
        "id": "jtS8WXlchkRm"
      },
      "execution_count": null,
      "outputs": []
    },
    {
      "cell_type": "code",
      "source": [
        "conn = sqlite3.connect('Ul.db')\n",
        "cursor = conn.execute(''' SELECT * FROM Vehicle ''')\n",
        "for tuples in cursor:\n",
        "  print(tuples)"
      ],
      "metadata": {
        "id": "H4G7bz0DoWxE",
        "outputId": "d61c39f0-9593-487f-b603-2633cab54cc2",
        "colab": {
          "base_uri": "https://localhost:8080/"
        }
      },
      "execution_count": null,
      "outputs": [
        {
          "output_type": "stream",
          "name": "stdout",
          "text": [
            "('V1000', '2001 ABC', 'Volvo', 'XC90 SE', 'Silver', 4350, 4, 1234)\n",
            "('V1001', '2006 AFD', 'Kia', 'K7', 'Black', 2195, 4, 1123)\n",
            "('V1002', '2021 AHR', 'Tesla', '2020 F', 'White', 509, 4, 1223)\n",
            "('V1003', '2020 DXF', 'Ford', 'Transit', 'Silver', 974, 2, 1233)\n"
          ]
        }
      ]
    }
  ]
}